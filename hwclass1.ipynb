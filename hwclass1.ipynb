{
  "nbformat": 4,
  "nbformat_minor": 0,
  "metadata": {
    "colab": {
      "provenance": []
    },
    "kernelspec": {
      "name": "python3",
      "display_name": "Python 3"
    },
    "language_info": {
      "name": "python"
    }
  },
  "cells": [
    {
      "cell_type": "markdown",
      "source": [
        "1.Program to find sum of 2 numbers"
      ],
      "metadata": {
        "id": "MIkz0pz0mY1Q"
      }
    },
    {
      "cell_type": "code",
      "source": [
        "a=int(input('Enter your first number '))\n",
        "b=int(input('Enter your second number '))\n",
        "sum=a+b\n",
        "print('Sum =',sum)"
      ],
      "metadata": {
        "colab": {
          "base_uri": "https://localhost:8080/"
        },
        "id": "4pNXZviEhhuw",
        "outputId": "b13e18e3-3f01-4fc2-b988-de2398386fd4"
      },
      "execution_count": 4,
      "outputs": [
        {
          "output_type": "stream",
          "name": "stdout",
          "text": [
            "Enter your first number 4\n",
            "Enter your second number 5\n",
            "Sum = 9\n"
          ]
        }
      ]
    },
    {
      "cell_type": "markdown",
      "source": [
        "2.Program to find product of 2 numbers"
      ],
      "metadata": {
        "id": "8r6vhpEymmyX"
      }
    },
    {
      "cell_type": "code",
      "source": [
        "a=int(input('Enter your first number '))\n",
        "b=int(input('Enter your second number '))\n",
        "p=a*b\n",
        "print('Product =',p)"
      ],
      "metadata": {
        "colab": {
          "base_uri": "https://localhost:8080/"
        },
        "id": "CjALsjNmhyOP",
        "outputId": "110c9587-a7ac-46a0-9f6a-688adefa4b92"
      },
      "execution_count": 5,
      "outputs": [
        {
          "output_type": "stream",
          "name": "stdout",
          "text": [
            "Enter your first number 4\n",
            "Enter your second number 5\n",
            "Product = 20\n"
          ]
        }
      ]
    },
    {
      "cell_type": "markdown",
      "source": [
        "3.Program to find quotient & remainder of 2 numbers"
      ],
      "metadata": {
        "id": "9meSVYTubRva"
      }
    },
    {
      "cell_type": "code",
      "source": [
        "a=int(input('Enter your first number '))\n",
        "b=int(input('Enter your second number '))\n",
        "q=int(a/b)\n",
        "r=a%b\n",
        "print('Quotient =',q)\n",
        "print('Remainder =',r)"
      ],
      "metadata": {
        "colab": {
          "base_uri": "https://localhost:8080/"
        },
        "id": "83hy6eSrkHYN",
        "outputId": "3531ce1a-6d45-4279-bf7d-0b33a2bf798d"
      },
      "execution_count": null,
      "outputs": [
        {
          "output_type": "stream",
          "name": "stdout",
          "text": [
            "Enter your first number20\n",
            "Enter your second number3\n",
            "Quotient = 6\n",
            "Remainder = 2\n"
          ]
        }
      ]
    },
    {
      "cell_type": "markdown",
      "source": [
        "4.Program to find the length of the string"
      ],
      "metadata": {
        "id": "Y4BFj-Vi4ii7"
      }
    },
    {
      "cell_type": "code",
      "source": [
        "a=str(input('Enter your word '))\n",
        "l=len(a)\n",
        "print('Length of your word =',l)"
      ],
      "metadata": {
        "id": "hEjkiBG8lG88",
        "colab": {
          "base_uri": "https://localhost:8080/"
        },
        "outputId": "e788ed45-4d13-4c92-cdf2-bed9c68298bb"
      },
      "execution_count": 6,
      "outputs": [
        {
          "output_type": "stream",
          "name": "stdout",
          "text": [
            "Enter your word mango\n",
            "Length of your word = 5\n"
          ]
        }
      ]
    },
    {
      "cell_type": "markdown",
      "source": [
        "5.Program to find the no:of occurance of a character in a string"
      ],
      "metadata": {
        "id": "hSyGJl-y4tNC"
      }
    },
    {
      "cell_type": "code",
      "source": [
        "word=str(input('Enter your word '))\n",
        "char=str(input('Enter your character '))\n",
        "count=0\n",
        "for i in word:\n",
        " if(i==char):\n",
        "  count=count+1\n",
        "print(count)"
      ],
      "metadata": {
        "colab": {
          "base_uri": "https://localhost:8080/"
        },
        "id": "yz9JFw5g3dFD",
        "outputId": "36cce183-30ae-49b9-8942-c4693aca9014"
      },
      "execution_count": 8,
      "outputs": [
        {
          "output_type": "stream",
          "name": "stdout",
          "text": [
            "Enter your word anna\n",
            "Enter your character a\n",
            "2\n"
          ]
        }
      ]
    },
    {
      "cell_type": "markdown",
      "source": [
        "6.Program to convert a string to all uppercase\n",
        "\n"
      ],
      "metadata": {
        "id": "MaOB8PG164Au"
      }
    },
    {
      "cell_type": "code",
      "source": [
        "word=str(input('Enter your word '))\n",
        "uword=word.upper()\n",
        "print(uword)"
      ],
      "metadata": {
        "colab": {
          "base_uri": "https://localhost:8080/"
        },
        "id": "xGYDoeU36c5N",
        "outputId": "c311b589-7446-4034-ab9e-73474be18e86"
      },
      "execution_count": 9,
      "outputs": [
        {
          "output_type": "stream",
          "name": "stdout",
          "text": [
            "Enter your word anna\n",
            "ANNA\n"
          ]
        }
      ]
    },
    {
      "cell_type": "markdown",
      "source": [
        "7.Program to convert a string to all lowercase\n",
        "\n"
      ],
      "metadata": {
        "id": "EWjCS38z8h9o"
      }
    },
    {
      "cell_type": "code",
      "source": [
        "word=str(input('Enter your word '))\n",
        "lword=word.lower()\n",
        "print(lword)"
      ],
      "metadata": {
        "colab": {
          "base_uri": "https://localhost:8080/"
        },
        "id": "x0AmRvN08K1r",
        "outputId": "855e6746-2c4e-4cc0-8fd1-12724c163e45"
      },
      "execution_count": 10,
      "outputs": [
        {
          "output_type": "stream",
          "name": "stdout",
          "text": [
            "Enter your word ANNA\n",
            "anna\n"
          ]
        }
      ]
    }
  ]
}