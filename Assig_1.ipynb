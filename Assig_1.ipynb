{
  "nbformat": 4,
  "nbformat_minor": 0,
  "metadata": {
    "colab": {
      "provenance": []
    },
    "kernelspec": {
      "name": "python3",
      "display_name": "Python 3"
    },
    "language_info": {
      "name": "python"
    }
  },
  "cells": [
    {
      "cell_type": "markdown",
      "source": [
        "1. Write a Python program to calculate the area of a rectangle given its length\n",
        "and width."
      ],
      "metadata": {
        "id": "FiG-SY6NJF1M"
      }
    },
    {
      "cell_type": "code",
      "execution_count": null,
      "metadata": {
        "id": "rQEtrrlkI9VN",
        "colab": {
          "base_uri": "https://localhost:8080/"
        },
        "outputId": "a9c0382b-d318-4f91-cda7-334390c427cf"
      },
      "outputs": [
        {
          "output_type": "stream",
          "name": "stdout",
          "text": [
            "Enter your length 5\n",
            "Enter your width 4\n",
            "Area = 20\n"
          ]
        }
      ],
      "source": [
        "l=int(input('Enter your length '))\n",
        "b=int(input('Enter your width '))\n",
        "area=l*b\n",
        "print(\"Area =\",area)"
      ]
    },
    {
      "cell_type": "markdown",
      "source": [
        "2. Create a program that takes two numbers from the user and calculates their\n",
        "sum, difference, product, and quotient."
      ],
      "metadata": {
        "id": "c6RB-yofLrIV"
      }
    },
    {
      "cell_type": "code",
      "source": [
        "a=int(input('Enter your 1st number '))\n",
        "b=int(input('Enter your 2nd number '))\n",
        "sum=a+b\n",
        "diff=a-b\n",
        "product=a*b\n",
        "quotient=a//b\n",
        "print('Sum =',sum)\n",
        "print('Difference =',diff)\n",
        "print('Product =',product)\n",
        "print('Quotient =',quotient)"
      ],
      "metadata": {
        "id": "OfpTuauDLqxb",
        "colab": {
          "base_uri": "https://localhost:8080/"
        },
        "outputId": "fdc0fba0-84e0-4c58-8923-265613e5039a"
      },
      "execution_count": null,
      "outputs": [
        {
          "output_type": "stream",
          "name": "stdout",
          "text": [
            "Enter your 1st number 8\n",
            "Enter your 2nd number 4\n",
            "Sum = 12\n",
            "Difference = 4\n",
            "Product = 32\n",
            "Quotient = 2\n"
          ]
        }
      ]
    },
    {
      "cell_type": "markdown",
      "source": [
        "3. Write a program to convert temperature from Fahrenheit to Celsius and vice\n",
        "versa, based on user input."
      ],
      "metadata": {
        "id": "Xf7V8rC4Lyhz"
      }
    },
    {
      "cell_type": "code",
      "source": [
        "a=int(input('Enter your temperature in Fahrenheit(F) '))\n",
        "c=(a-32)*(5/9)\n",
        "print(a,end='')\n",
        "print('° F =',end='')\n",
        "print(' ',c,end='')\n",
        "print('° C')\n",
        "b=int(input('Enter your temprature in Celsius(C) '))\n",
        "f=b*(9/5)+32\n",
        "print(b,end='')\n",
        "print('° C =',end='')\n",
        "print(' ',f,end='')\n",
        "print('° F')\n"
      ],
      "metadata": {
        "id": "ozHUYDbFLvyE",
        "colab": {
          "base_uri": "https://localhost:8080/"
        },
        "outputId": "9c6c5dfd-1470-4ccd-8c93-49641604a758"
      },
      "execution_count": null,
      "outputs": [
        {
          "output_type": "stream",
          "name": "stdout",
          "text": [
            "Enter your temperature in Fahrenheit(F) 40\n",
            "40° F =  4.444444444444445° C\n",
            "Enter your temprature in Celsius(C) 40\n",
            "40° C =  104.0° F\n"
          ]
        }
      ]
    },
    {
      "cell_type": "markdown",
      "source": [
        "4. Implement a program that checks if a given number is positive, negative, or\n",
        "zero."
      ],
      "metadata": {
        "id": "Wp2hHFgWLuDz"
      }
    },
    {
      "cell_type": "code",
      "source": [
        "n=int(input('Enter your number '))\n",
        "if(n>0):\n",
        "  print(n,'is a Positive number')\n",
        "elif(n==0):\n",
        "  print('You have entered Zero')\n",
        "else:\n",
        "  print(n,'is a Negative number')"
      ],
      "metadata": {
        "id": "OSQrnH5WLtfD",
        "colab": {
          "base_uri": "https://localhost:8080/"
        },
        "outputId": "00c0a81b-207b-4b79-ee10-5fb3dc2fcc94"
      },
      "execution_count": null,
      "outputs": [
        {
          "output_type": "stream",
          "name": "stdout",
          "text": [
            "Enter your number 4\n",
            "4 is a Positive number\n"
          ]
        }
      ]
    },
    {
      "cell_type": "markdown",
      "source": [
        "**5**.  Write a Python function that determines if a year is a leap year, taking into\n",
        "account leap year rules.\n",
        "a. A year is a leap year if it is divisible by 4, except for years that are\n",
        "divisible by 100.\n",
        "b. However, years divisible by 400 are also leap years."
      ],
      "metadata": {
        "id": "ulVQgBKvLu-c"
      }
    },
    {
      "cell_type": "code",
      "source": [
        "y=int(input('Enter your year '))\n",
        "n=y\n",
        "if(y%4==0 and y%100!=0 or y%400==0):\n",
        "  print(n,'is leap year')\n",
        "else:\n",
        "  print(n,'is not a leap year')"
      ],
      "metadata": {
        "id": "VupbloPCL4dz",
        "colab": {
          "base_uri": "https://localhost:8080/"
        },
        "outputId": "deaa8887-419c-4e48-8051-e0c7cca43e81"
      },
      "execution_count": null,
      "outputs": [
        {
          "output_type": "stream",
          "name": "stdout",
          "text": [
            "Enter your year 2016\n",
            "2016 is leap year\n"
          ]
        }
      ]
    },
    {
      "cell_type": "markdown",
      "source": [
        "6. Create a program that categorizes a given student's grade (A, B, C, D, or F)\n",
        "based on their numerical score. Given below is grading scale\n",
        "A: 90-100\n",
        "B: 80-89\n",
        "C: 70-79\n",
        "D: 60-69\n",
        "F: 0-59"
      ],
      "metadata": {
        "id": "YnDumxp8L3lt"
      }
    },
    {
      "cell_type": "code",
      "source": [
        "a=int(input('Enter your Score '))\n",
        "if(a==100 or a>=90):\n",
        "  print('Grade is A')\n",
        "elif(a==89 or a>=80):\n",
        "  print('Grade is B')\n",
        "if(a==79 or a>=70):\n",
        "  print('Grade is C')\n",
        "elif(a==69 or a>=60):\n",
        "  print('Grade is D')\n",
        "else:\n",
        "  print('Grade is F')"
      ],
      "metadata": {
        "id": "rP3joALYL73T",
        "colab": {
          "base_uri": "https://localhost:8080/"
        },
        "outputId": "89530612-eb9f-477d-ee79-f312f9282060"
      },
      "execution_count": null,
      "outputs": [
        {
          "output_type": "stream",
          "name": "stdout",
          "text": [
            "Enter your Score 75\n",
            "Grade is C\n"
          ]
        }
      ]
    },
    {
      "cell_type": "markdown",
      "source": [
        "7. Write a Python loop to print numbers from 10 to 1."
      ],
      "metadata": {
        "id": "hSpWhDOWL-ib"
      }
    },
    {
      "cell_type": "code",
      "source": [
        "for i in range(10,0,-1):\n",
        "  print(i)"
      ],
      "metadata": {
        "id": "TQG_WahfL_Ck",
        "colab": {
          "base_uri": "https://localhost:8080/"
        },
        "outputId": "f97319d4-9636-4011-f6cb-2627e00cb8a1"
      },
      "execution_count": null,
      "outputs": [
        {
          "output_type": "stream",
          "name": "stdout",
          "text": [
            "10\n",
            "9\n",
            "8\n",
            "7\n",
            "6\n",
            "5\n",
            "4\n",
            "3\n",
            "2\n",
            "1\n"
          ]
        }
      ]
    },
    {
      "cell_type": "markdown",
      "source": [
        "8. Write a program that prints all the even numbers from 1 to 20 using a for\n",
        "loop."
      ],
      "metadata": {
        "id": "PKxKH0P7MAH0"
      }
    },
    {
      "cell_type": "code",
      "source": [
        "for n in range(1,21):\n",
        "  if(n%2==0):\n",
        "    print(n)"
      ],
      "metadata": {
        "id": "VPd4NuYdL9sN",
        "colab": {
          "base_uri": "https://localhost:8080/"
        },
        "outputId": "8e38b8e2-5594-4111-bb8b-9ff51bafedde"
      },
      "execution_count": null,
      "outputs": [
        {
          "output_type": "stream",
          "name": "stdout",
          "text": [
            "2\n",
            "4\n",
            "6\n",
            "8\n",
            "10\n",
            "12\n",
            "14\n",
            "16\n",
            "18\n",
            "20\n"
          ]
        }
      ]
    },
    {
      "cell_type": "code",
      "source": [],
      "metadata": {
        "id": "73UDQoVopT6I"
      },
      "execution_count": null,
      "outputs": []
    },
    {
      "cell_type": "markdown",
      "source": [
        "9. Write a program that generates and prints the multiplication table for a given\n",
        "number. For example, if the user enters 5, the program should print the table\n",
        "for 5 (5x1, 5x2, ..., 5x10)."
      ],
      "metadata": {
        "id": "-cqucpBnMCID"
      }
    },
    {
      "cell_type": "code",
      "source": [
        "n=int(input('Enter your number '))\n",
        "print('Multiplication table of',n,'is')\n",
        "print(n,end='')\n",
        "print('*1 = ',n*1)\n",
        "print(n,end='')\n",
        "print('*2 = ',n*2)\n",
        "print(n,end='')\n",
        "print('*3 = ',n*3)\n",
        "print(n,end='')\n",
        "print('*4 = ',n*4)\n",
        "print(n,end='')\n",
        "print('*5 = ',n*5)\n",
        "print(n,end='')\n",
        "print('*6 = ',n*6)\n",
        "print(n,end='')\n",
        "print('*7 = ',n*7)\n",
        "print(n,end='')\n",
        "print('*8 = ',n*8)\n",
        "print(n,end='')\n",
        "print('*9 = ',n*9)\n",
        "print(n,end='')\n",
        "print('*10 = ',n*10)"
      ],
      "metadata": {
        "id": "T7I1ZuqpMBd7",
        "colab": {
          "base_uri": "https://localhost:8080/"
        },
        "outputId": "75758a67-cf04-4049-82a9-d67fed98a23c"
      },
      "execution_count": null,
      "outputs": [
        {
          "output_type": "stream",
          "name": "stdout",
          "text": [
            "Enter your number 5\n",
            "Multiplication table of 5 is\n",
            "5*1 =  5\n",
            "5*2 =  10\n",
            "5*3 =  15\n",
            "5*4 =  20\n",
            "5*5 =  25\n",
            "5*6 =  30\n",
            "5*7 =  35\n",
            "5*8 =  40\n",
            "5*9 =  45\n",
            "5*10 =  50\n"
          ]
        }
      ]
    }
  ]
}