{
  "nbformat": 4,
  "nbformat_minor": 0,
  "metadata": {
    "colab": {
      "provenance": []
    },
    "kernelspec": {
      "name": "python3",
      "display_name": "Python 3"
    },
    "language_info": {
      "name": "python"
    }
  },
  "cells": [
    {
      "cell_type": "markdown",
      "source": [
        "1. Create a NumPy array of integers from 1 to 10."
      ],
      "metadata": {
        "id": "LVaMt1NmpBzK"
      }
    },
    {
      "cell_type": "code",
      "source": [
        "import numpy as np"
      ],
      "metadata": {
        "id": "rOokQ-c7pAvb"
      },
      "execution_count": null,
      "outputs": []
    },
    {
      "cell_type": "code",
      "execution_count": null,
      "metadata": {
        "colab": {
          "base_uri": "https://localhost:8080/"
        },
        "id": "TPLmm4ziotvA",
        "outputId": "5ba7c50e-965f-4305-a923-e611a0e5c9c3"
      },
      "outputs": [
        {
          "output_type": "execute_result",
          "data": {
            "text/plain": [
              "array([ 1,  2,  3,  4,  5,  6,  7,  8,  9, 10])"
            ]
          },
          "metadata": {},
          "execution_count": 2
        }
      ],
      "source": [
        "arr1=np.arange(1,11)\n",
        "arr1"
      ]
    },
    {
      "cell_type": "markdown",
      "source": [
        "2. Create a 2x3 NumPy array filled with zeros."
      ],
      "metadata": {
        "id": "djSl4HLfprmy"
      }
    },
    {
      "cell_type": "code",
      "source": [
        "np.zeros((2,3))"
      ],
      "metadata": {
        "colab": {
          "base_uri": "https://localhost:8080/"
        },
        "id": "Vqk6qCYnpd00",
        "outputId": "bc6d48d2-1088-4fb5-9e28-49b7b6ce6b28"
      },
      "execution_count": null,
      "outputs": [
        {
          "output_type": "execute_result",
          "data": {
            "text/plain": [
              "array([[0., 0., 0.],\n",
              "       [0., 0., 0.]])"
            ]
          },
          "metadata": {},
          "execution_count": 3
        }
      ]
    },
    {
      "cell_type": "markdown",
      "source": [
        "3. Create a NumPy array of even numbers from 2 to 20"
      ],
      "metadata": {
        "id": "1s8anETTqCe6"
      }
    },
    {
      "cell_type": "code",
      "source": [
        "arr2=np.arange(2,21,2)\n",
        "arr2"
      ],
      "metadata": {
        "colab": {
          "base_uri": "https://localhost:8080/"
        },
        "id": "EsZrwFrOp4Cp",
        "outputId": "22b163e0-f0b0-4674-a8c3-685f496656b4"
      },
      "execution_count": null,
      "outputs": [
        {
          "output_type": "execute_result",
          "data": {
            "text/plain": [
              "array([ 2,  4,  6,  8, 10, 12, 14, 16, 18, 20])"
            ]
          },
          "metadata": {},
          "execution_count": 4
        }
      ]
    },
    {
      "cell_type": "markdown",
      "source": [
        "4. Given two NumPy arrays, arr1 = np.array([1, 2, 3]) and arr2 = np.array([4,\n",
        "5, 6]), perform element-wise addition, subtraction, multiplication, and\n",
        "division between the two arrays."
      ],
      "metadata": {
        "id": "8lV_2MuEqbAS"
      }
    },
    {
      "cell_type": "code",
      "source": [
        "arr1 = np.array([1, 2, 3])\n",
        "arr2 = np.array([4, 5, 6])\n"
      ],
      "metadata": {
        "id": "4cG0F6uAqYRb"
      },
      "execution_count": 138,
      "outputs": []
    },
    {
      "cell_type": "code",
      "source": [
        "arr3=arr1+arr2\n",
        "print(\"Sum =\",arr3)"
      ],
      "metadata": {
        "colab": {
          "base_uri": "https://localhost:8080/"
        },
        "id": "R5oQIThOqy0D",
        "outputId": "ceb2c23d-f150-49a2-f652-7ea89ca0c1b5"
      },
      "execution_count": 137,
      "outputs": [
        {
          "output_type": "stream",
          "name": "stdout",
          "text": [
            "Sum = [5 7 9]\n"
          ]
        }
      ]
    },
    {
      "cell_type": "code",
      "source": [
        "arr3=arr2-arr1\n",
        "print(\"Difference =\",arr3)"
      ],
      "metadata": {
        "colab": {
          "base_uri": "https://localhost:8080/"
        },
        "id": "Chx8-wBcrABD",
        "outputId": "0ac3c255-d201-451f-9b4e-7108a367e4e5"
      },
      "execution_count": 139,
      "outputs": [
        {
          "output_type": "stream",
          "name": "stdout",
          "text": [
            "Difference = [3 3 3]\n"
          ]
        }
      ]
    },
    {
      "cell_type": "code",
      "source": [
        "arr3=arr1*arr2\n",
        "print(\"Product =\",arr3)"
      ],
      "metadata": {
        "colab": {
          "base_uri": "https://localhost:8080/"
        },
        "id": "tVmgfG66rU66",
        "outputId": "945248dc-9ccf-4481-e1fe-db3ef73948a4"
      },
      "execution_count": 140,
      "outputs": [
        {
          "output_type": "stream",
          "name": "stdout",
          "text": [
            "Product = [ 4 10 18]\n"
          ]
        }
      ]
    },
    {
      "cell_type": "code",
      "source": [
        "arr3=arr2/arr1\n",
        "print(\"Division =\",arr3)"
      ],
      "metadata": {
        "colab": {
          "base_uri": "https://localhost:8080/"
        },
        "id": "3sPRhQl8rehj",
        "outputId": "91f2da73-8829-4d37-fe55-7a235d3f78ed"
      },
      "execution_count": 141,
      "outputs": [
        {
          "output_type": "stream",
          "name": "stdout",
          "text": [
            "Division = [4.  2.5 2. ]\n"
          ]
        }
      ]
    },
    {
      "cell_type": "markdown",
      "source": [
        "5. Compute the mean, median, and standard deviation of a NumPy array\n",
        "containing 100 random numbers"
      ],
      "metadata": {
        "id": "hTcu-6OtrvrJ"
      }
    },
    {
      "cell_type": "code",
      "source": [
        "arr=np.random.randint(0,100,100)\n",
        "arr"
      ],
      "metadata": {
        "colab": {
          "base_uri": "https://localhost:8080/"
        },
        "id": "qFqQmeBqrow5",
        "outputId": "c893e80a-8c07-4346-d388-dbebf56e807c"
      },
      "execution_count": 142,
      "outputs": [
        {
          "output_type": "execute_result",
          "data": {
            "text/plain": [
              "array([69, 70, 57, 99, 58, 41, 75, 58, 92, 32, 90, 73, 38, 63, 50, 74, 69,\n",
              "       72, 92, 29, 32, 38, 88,  4, 24, 28,  9, 91, 35, 85, 15, 51, 76, 18,\n",
              "       33, 34, 69, 53, 57,  6,  8, 77, 87, 71, 25, 65, 20, 75, 82,  4,  1,\n",
              "       97, 20, 36, 19, 62,  0, 14,  9, 22, 75, 92, 91, 46, 60, 50, 13, 32,\n",
              "       14, 51, 34, 20, 66, 74, 36, 82, 58, 88, 56,  8, 86, 21, 47, 47, 80,\n",
              "       35, 41, 16,  9, 76, 91, 49, 88, 34,  8, 32,  9, 75, 54, 98])"
            ]
          },
          "metadata": {},
          "execution_count": 142
        }
      ]
    },
    {
      "cell_type": "code",
      "source": [
        "print(\"Mean =\",arr.mean())"
      ],
      "metadata": {
        "colab": {
          "base_uri": "https://localhost:8080/"
        },
        "id": "SVB5BRUosSlP",
        "outputId": "6d14ec42-e3e6-48a2-c25a-12e421c0e1cc"
      },
      "execution_count": 143,
      "outputs": [
        {
          "output_type": "stream",
          "name": "stdout",
          "text": [
            "Mean = 49.83\n"
          ]
        }
      ]
    },
    {
      "cell_type": "code",
      "source": [
        "print(\"Median =\",np.median(arr))"
      ],
      "metadata": {
        "id": "60WU5uFLtlb0",
        "colab": {
          "base_uri": "https://localhost:8080/"
        },
        "outputId": "c3c3e6d9-fc21-4636-be28-bb6c0107b0c4"
      },
      "execution_count": 144,
      "outputs": [
        {
          "output_type": "stream",
          "name": "stdout",
          "text": [
            "Median = 50.5\n"
          ]
        }
      ]
    },
    {
      "cell_type": "code",
      "source": [
        "print(\"Standard deviation =\",np.std(arr))"
      ],
      "metadata": {
        "id": "fFT-sGYuuktd",
        "colab": {
          "base_uri": "https://localhost:8080/"
        },
        "outputId": "93f51170-66d7-447d-beb7-c224d2b19cc0"
      },
      "execution_count": 145,
      "outputs": [
        {
          "output_type": "stream",
          "name": "stdout",
          "text": [
            "Standard deviation = 28.561531821665312\n"
          ]
        }
      ]
    },
    {
      "cell_type": "markdown",
      "source": [
        "6. Reshape a 1D NumPy array of 12 random elements into a 2D array with a\n",
        "shape of (3, 4)."
      ],
      "metadata": {
        "id": "EhEOfEEZugrt"
      }
    },
    {
      "cell_type": "code",
      "source": [
        "arr4=np.random.randint(0,12,12)\n",
        "arr4.reshape(3,4)"
      ],
      "metadata": {
        "colab": {
          "base_uri": "https://localhost:8080/"
        },
        "id": "eAGaKR8juH6l",
        "outputId": "6bbc90a3-93b6-47cc-e139-fd357fe85e2e"
      },
      "execution_count": null,
      "outputs": [
        {
          "output_type": "execute_result",
          "data": {
            "text/plain": [
              "array([[ 0,  5,  8,  2],\n",
              "       [ 4,  7, 10,  9],\n",
              "       [ 8,  5,  4,  7]])"
            ]
          },
          "metadata": {},
          "execution_count": 13
        }
      ]
    },
    {
      "cell_type": "markdown",
      "source": [
        "7. Given a NumPy array arr = np.array([1, 2, 3, 4, 5]), square each element in\n",
        "the array using NumPy functions."
      ],
      "metadata": {
        "id": "09IJbw5SvEbF"
      }
    },
    {
      "cell_type": "code",
      "source": [
        "arr = np.array([1, 2, 3, 4, 5])\n",
        "print(\"Square of array =\",np.square(arr))"
      ],
      "metadata": {
        "colab": {
          "base_uri": "https://localhost:8080/"
        },
        "id": "sbfbwc5juy3e",
        "outputId": "af6cd31b-2fbc-4daf-acc9-86281407f55f"
      },
      "execution_count": 79,
      "outputs": [
        {
          "output_type": "stream",
          "name": "stdout",
          "text": [
            "Square of array = [ 1  4  9 16 25]\n"
          ]
        }
      ]
    },
    {
      "cell_type": "markdown",
      "source": [
        "8. Create a 5x5 identity matrix using NumPy"
      ],
      "metadata": {
        "id": "t2enrjp9v409"
      }
    },
    {
      "cell_type": "code",
      "source": [
        "np.eye(5,5)"
      ],
      "metadata": {
        "colab": {
          "base_uri": "https://localhost:8080/"
        },
        "id": "KWIru8mbvfoF",
        "outputId": "8d01baa3-3ad0-410c-ba68-2c38d25e84a0"
      },
      "execution_count": null,
      "outputs": [
        {
          "output_type": "execute_result",
          "data": {
            "text/plain": [
              "array([[1., 0., 0., 0., 0.],\n",
              "       [0., 1., 0., 0., 0.],\n",
              "       [0., 0., 1., 0., 0.],\n",
              "       [0., 0., 0., 1., 0.],\n",
              "       [0., 0., 0., 0., 1.]])"
            ]
          },
          "metadata": {},
          "execution_count": 15
        }
      ]
    },
    {
      "cell_type": "markdown",
      "source": [
        "9. Calculate the dot product of two NumPy arrays, a = np.array([1, 2, 3]) and\n",
        "b = np.array([4, 5, 6])"
      ],
      "metadata": {
        "id": "nRw5Qqi_wNGc"
      }
    },
    {
      "cell_type": "code",
      "source": [
        "a = np.array([1, 2, 3])\n",
        "b = np.array([4, 5, 6])\n",
        "print(\"Dot product =\",np.dot(a,b))\n"
      ],
      "metadata": {
        "colab": {
          "base_uri": "https://localhost:8080/"
        },
        "id": "lk9GvB22wLsE",
        "outputId": "3fdc3b4c-46f9-4efe-fecf-f9c15492aef5"
      },
      "execution_count": 80,
      "outputs": [
        {
          "output_type": "stream",
          "name": "stdout",
          "text": [
            "Dot product = 32\n"
          ]
        }
      ]
    },
    {
      "cell_type": "markdown",
      "source": [
        "10.Find the index of the maximum value and the index of the minimum value\n",
        "in a NumPy array."
      ],
      "metadata": {
        "id": "FW-e701cw4Y7"
      }
    },
    {
      "cell_type": "code",
      "source": [
        "arr1=np.arange(1,11)\n",
        "arr1"
      ],
      "metadata": {
        "id": "yzMqWg64ws2S",
        "colab": {
          "base_uri": "https://localhost:8080/"
        },
        "outputId": "85f938dd-9e22-4de2-e9b5-4f984e961aae"
      },
      "execution_count": null,
      "outputs": [
        {
          "output_type": "execute_result",
          "data": {
            "text/plain": [
              "array([ 1,  2,  3,  4,  5,  6,  7,  8,  9, 10])"
            ]
          },
          "metadata": {},
          "execution_count": 28
        }
      ]
    },
    {
      "cell_type": "code",
      "source": [
        "print(\"Index of the maximum value =\",np.argmax(arr1))"
      ],
      "metadata": {
        "colab": {
          "base_uri": "https://localhost:8080/"
        },
        "id": "qql4njFNWqRs",
        "outputId": "970e27ed-559c-4cca-b76c-6a3dc877100d"
      },
      "execution_count": 82,
      "outputs": [
        {
          "output_type": "stream",
          "name": "stdout",
          "text": [
            "Index of the maximum value = 9\n"
          ]
        }
      ]
    },
    {
      "cell_type": "code",
      "source": [
        "print(\"Index of the minimum value =\",np.argmin(arr1))"
      ],
      "metadata": {
        "colab": {
          "base_uri": "https://localhost:8080/"
        },
        "id": "a_pmalDmW1pN",
        "outputId": "98376371-eef8-41b2-d7d1-b7f5eef66418"
      },
      "execution_count": 83,
      "outputs": [
        {
          "output_type": "stream",
          "name": "stdout",
          "text": [
            "Index of the minimum value = 0\n"
          ]
        }
      ]
    },
    {
      "cell_type": "markdown",
      "source": [
        "11.Concatenate two random NumPy arrays horizontally and vertically."
      ],
      "metadata": {
        "id": "TxB86eLNXWFA"
      }
    },
    {
      "cell_type": "code",
      "source": [
        "a=np.random.randint(0,20,12).reshape(4,3)\n",
        "a\n"
      ],
      "metadata": {
        "colab": {
          "base_uri": "https://localhost:8080/"
        },
        "id": "XBe1Z3PuX8bK",
        "outputId": "78dde48f-6313-44cd-ea17-37bc73a07018"
      },
      "execution_count": null,
      "outputs": [
        {
          "output_type": "execute_result",
          "data": {
            "text/plain": [
              "array([[13,  4, 13],\n",
              "       [13, 18, 16],\n",
              "       [16,  5, 18],\n",
              "       [ 0,  8, 17]])"
            ]
          },
          "metadata": {},
          "execution_count": 37
        }
      ]
    },
    {
      "cell_type": "code",
      "source": [
        "b=np.random.randint(0,20,12).reshape(4,3)\n",
        "b"
      ],
      "metadata": {
        "colab": {
          "base_uri": "https://localhost:8080/"
        },
        "id": "76Mi0b2KW-fO",
        "outputId": "3a66f787-6da1-45b5-a30b-cf79c57d7e95"
      },
      "execution_count": null,
      "outputs": [
        {
          "output_type": "execute_result",
          "data": {
            "text/plain": [
              "array([[ 4,  0,  3],\n",
              "       [ 4,  8,  8],\n",
              "       [19,  7,  8],\n",
              "       [ 7, 10,  3]])"
            ]
          },
          "metadata": {},
          "execution_count": 38
        }
      ]
    },
    {
      "cell_type": "code",
      "source": [
        "np.concatenate((a,b)) #Concatenate  vertically"
      ],
      "metadata": {
        "colab": {
          "base_uri": "https://localhost:8080/"
        },
        "id": "iqetjaHDX_pG",
        "outputId": "6ae2b8c2-f36e-42eb-bda5-a48da7726183"
      },
      "execution_count": null,
      "outputs": [
        {
          "output_type": "execute_result",
          "data": {
            "text/plain": [
              "array([[13,  4, 13],\n",
              "       [13, 18, 16],\n",
              "       [16,  5, 18],\n",
              "       [ 0,  8, 17],\n",
              "       [ 4,  0,  3],\n",
              "       [ 4,  8,  8],\n",
              "       [19,  7,  8],\n",
              "       [ 7, 10,  3]])"
            ]
          },
          "metadata": {},
          "execution_count": 39
        }
      ]
    },
    {
      "cell_type": "code",
      "source": [
        "np.concatenate((a,b),axis=1)  #Concatenate horizontally"
      ],
      "metadata": {
        "colab": {
          "base_uri": "https://localhost:8080/"
        },
        "id": "adkqVLohZyqN",
        "outputId": "497f116d-008e-4a46-abf2-9531c292e890"
      },
      "execution_count": null,
      "outputs": [
        {
          "output_type": "execute_result",
          "data": {
            "text/plain": [
              "array([[13,  4, 13,  4,  0,  3],\n",
              "       [13, 18, 16,  4,  8,  8],\n",
              "       [16,  5, 18, 19,  7,  8],\n",
              "       [ 0,  8, 17,  7, 10,  3]])"
            ]
          },
          "metadata": {},
          "execution_count": 45
        }
      ]
    },
    {
      "cell_type": "markdown",
      "source": [
        "12.Given a 2D NumPy array, calculate the sum of each row and each column\n",
        "separately."
      ],
      "metadata": {
        "id": "xrw5dDujbvWo"
      }
    },
    {
      "cell_type": "code",
      "source": [
        "arr5=np.array([[1,2,3,4],[5,6,7,8]])"
      ],
      "metadata": {
        "id": "Wcd-_003aWqB"
      },
      "execution_count": 57,
      "outputs": []
    },
    {
      "cell_type": "code",
      "source": [
        "arr5"
      ],
      "metadata": {
        "colab": {
          "base_uri": "https://localhost:8080/"
        },
        "id": "AOKmRuMHg5A0",
        "outputId": "e1708a7a-dfd2-4493-b7f9-6dcc8b1ad7c8"
      },
      "execution_count": 58,
      "outputs": [
        {
          "output_type": "execute_result",
          "data": {
            "text/plain": [
              "array([[1, 2, 3, 4],\n",
              "       [5, 6, 7, 8]])"
            ]
          },
          "metadata": {},
          "execution_count": 58
        }
      ]
    },
    {
      "cell_type": "code",
      "source": [
        "print(\"Column wise sum =\",np.sum(arr5,axis=0))"
      ],
      "metadata": {
        "colab": {
          "base_uri": "https://localhost:8080/"
        },
        "id": "SZQTsYltg_BZ",
        "outputId": "bfaec90b-58c2-4074-c3f6-72524264a14b"
      },
      "execution_count": 62,
      "outputs": [
        {
          "output_type": "stream",
          "name": "stdout",
          "text": [
            "Column wise sum = [ 6  8 10 12]\n"
          ]
        }
      ]
    },
    {
      "cell_type": "code",
      "source": [
        "print(\"Row wise sum =\",np.sum(arr5,axis=1))"
      ],
      "metadata": {
        "colab": {
          "base_uri": "https://localhost:8080/"
        },
        "id": "mTsNah_Ih5Oo",
        "outputId": "9a1e7043-a9a3-4aa8-cd6f-ec496e286757"
      },
      "execution_count": 64,
      "outputs": [
        {
          "output_type": "stream",
          "name": "stdout",
          "text": [
            "Row wise sum = [10 26]\n"
          ]
        }
      ]
    },
    {
      "cell_type": "markdown",
      "source": [
        "13.Find the common elements between two NumPy arrays."
      ],
      "metadata": {
        "id": "ycFh3Buojm2J"
      }
    },
    {
      "cell_type": "code",
      "source": [
        "e=np.array([1,2,3,4])\n"
      ],
      "metadata": {
        "id": "te0mqAITiyWs"
      },
      "execution_count": 65,
      "outputs": []
    },
    {
      "cell_type": "code",
      "source": [
        "f=np.array([6,5,4,3])"
      ],
      "metadata": {
        "id": "1b2jTnb3kuU_"
      },
      "execution_count": 66,
      "outputs": []
    },
    {
      "cell_type": "code",
      "source": [
        " print(\"Common elements =\",np.intersect1d(e, f))"
      ],
      "metadata": {
        "colab": {
          "base_uri": "https://localhost:8080/"
        },
        "id": "150GYyzOk6Mw",
        "outputId": "41f444f3-1521-4d62-f087-86d50e427098"
      },
      "execution_count": 69,
      "outputs": [
        {
          "output_type": "stream",
          "name": "stdout",
          "text": [
            "Common elements = [3 4]\n"
          ]
        }
      ]
    },
    {
      "cell_type": "markdown",
      "source": [
        "14.Replace all negative values in a NumPy array with zeros."
      ],
      "metadata": {
        "id": "yPyRsY9HlbAZ"
      }
    },
    {
      "cell_type": "code",
      "source": [
        "x=np.array([-3,-2,-1,1,2,3])"
      ],
      "metadata": {
        "id": "7uRt0VVKlC9R"
      },
      "execution_count": 90,
      "outputs": []
    },
    {
      "cell_type": "code",
      "source": [
        "x[x<0]=0"
      ],
      "metadata": {
        "id": "W812hIShoKb4"
      },
      "execution_count": 91,
      "outputs": []
    },
    {
      "cell_type": "code",
      "source": [
        "x"
      ],
      "metadata": {
        "colab": {
          "base_uri": "https://localhost:8080/"
        },
        "id": "CQMulrpLoYjC",
        "outputId": "a0294653-bd1c-49bb-e9f2-fb542c28421d"
      },
      "execution_count": 92,
      "outputs": [
        {
          "output_type": "execute_result",
          "data": {
            "text/plain": [
              "array([0, 0, 0, 1, 2, 3])"
            ]
          },
          "metadata": {},
          "execution_count": 92
        }
      ]
    },
    {
      "cell_type": "markdown",
      "source": [
        "15.Create a NumPy array with random integers between 1 and 100 and then\n",
        "sort it in ascending order"
      ],
      "metadata": {
        "id": "oavIvjLGoqOF"
      }
    },
    {
      "cell_type": "code",
      "source": [
        "z=np.random.randint(0,100,8)\n",
        "z"
      ],
      "metadata": {
        "colab": {
          "base_uri": "https://localhost:8080/"
        },
        "id": "DX_yK7aeoZ7d",
        "outputId": "cbc7d182-0435-4594-8b9e-933107ba3c95"
      },
      "execution_count": 94,
      "outputs": [
        {
          "output_type": "execute_result",
          "data": {
            "text/plain": [
              "array([74, 82, 50,  5, 78, 25, 92, 75])"
            ]
          },
          "metadata": {},
          "execution_count": 94
        }
      ]
    },
    {
      "cell_type": "code",
      "source": [
        "z.sort()\n",
        "print(\"Sorted array =\",z)"
      ],
      "metadata": {
        "colab": {
          "base_uri": "https://localhost:8080/"
        },
        "id": "ox_QjbINpBBJ",
        "outputId": "ad851db3-436d-4ebb-b009-e4251ead3100"
      },
      "execution_count": 97,
      "outputs": [
        {
          "output_type": "stream",
          "name": "stdout",
          "text": [
            "Sorted array = [ 5 25 50 74 75 78 82 92]\n"
          ]
        }
      ]
    },
    {
      "cell_type": "markdown",
      "source": [
        "16.Calculate the element-wise absolute difference between two NumPy\n",
        "arrays"
      ],
      "metadata": {
        "id": "5DAH-hOpqMoi"
      }
    },
    {
      "cell_type": "code",
      "source": [
        "p=np.array([[1,2,3,4],[5,6,7,8]])"
      ],
      "metadata": {
        "id": "mKXop28dp2YD"
      },
      "execution_count": 98,
      "outputs": []
    },
    {
      "cell_type": "code",
      "source": [
        "q=np.array([[6,7,8,9],[9,10,11,12]])"
      ],
      "metadata": {
        "id": "pKhDkBDzrC8o"
      },
      "execution_count": 101,
      "outputs": []
    },
    {
      "cell_type": "code",
      "source": [
        "print(\"Absolute difference =\",np.absolute(p-q))"
      ],
      "metadata": {
        "colab": {
          "base_uri": "https://localhost:8080/"
        },
        "id": "p2N8tGpGrfDy",
        "outputId": "ffc337b4-3589-48e7-c7cd-5a3031b66786"
      },
      "execution_count": 103,
      "outputs": [
        {
          "output_type": "stream",
          "name": "stdout",
          "text": [
            "Absolute difference = [[5 5 5 5]\n",
            " [4 4 4 4]]\n"
          ]
        }
      ]
    },
    {
      "cell_type": "markdown",
      "source": [
        "17.Given a 2D NumPy array, extract the first row and the last column."
      ],
      "metadata": {
        "id": "j_4y5Z67sRhi"
      }
    },
    {
      "cell_type": "code",
      "source": [
        "arr7=np.array([[1,5,3,8],[2,6,7,4],[11,15,13,12]])\n",
        "arr7"
      ],
      "metadata": {
        "colab": {
          "base_uri": "https://localhost:8080/"
        },
        "id": "5yfj50pyrnDf",
        "outputId": "5ff90ab5-5d50-4b17-8405-142e2473b293"
      },
      "execution_count": 105,
      "outputs": [
        {
          "output_type": "execute_result",
          "data": {
            "text/plain": [
              "array([[ 1,  5,  3,  8],\n",
              "       [ 2,  6,  7,  4],\n",
              "       [11, 15, 13, 12]])"
            ]
          },
          "metadata": {},
          "execution_count": 105
        }
      ]
    },
    {
      "cell_type": "code",
      "source": [
        "print(\"First row =\",arr7[0:1])"
      ],
      "metadata": {
        "colab": {
          "base_uri": "https://localhost:8080/"
        },
        "id": "1AFZzD_MsoTF",
        "outputId": "e94de597-bc94-46ac-8d39-08aee5e6ba9c"
      },
      "execution_count": 108,
      "outputs": [
        {
          "output_type": "stream",
          "name": "stdout",
          "text": [
            "First row = [[1 5 3 8]]\n"
          ]
        }
      ]
    },
    {
      "cell_type": "code",
      "source": [
        "print(\"Last column =\",arr7[:,[3]])"
      ],
      "metadata": {
        "colab": {
          "base_uri": "https://localhost:8080/"
        },
        "id": "tc0Z9hJ4tTzt",
        "outputId": "d8eae0fa-65c0-43da-d2a1-01eb6a1802b2"
      },
      "execution_count": 112,
      "outputs": [
        {
          "output_type": "stream",
          "name": "stdout",
          "text": [
            "Last column = [[ 8]\n",
            " [ 4]\n",
            " [12]]\n"
          ]
        }
      ]
    },
    {
      "cell_type": "markdown",
      "source": [
        "18.Slice a 1D NumPy array to get every other element."
      ],
      "metadata": {
        "id": "Uk6TUe4PuRjK"
      }
    },
    {
      "cell_type": "code",
      "source": [
        "ary=np.array([1,5,3,8,2,6,7,4,11,15,13,12])"
      ],
      "metadata": {
        "id": "gnfTmNstt3tQ"
      },
      "execution_count": 116,
      "outputs": []
    },
    {
      "cell_type": "code",
      "source": [
        "ary[0:12:1]"
      ],
      "metadata": {
        "colab": {
          "base_uri": "https://localhost:8080/"
        },
        "id": "qh4lqYOQvHQ_",
        "outputId": "42c85ed6-3f27-48dd-c75d-939a7ca1b6c9"
      },
      "execution_count": 117,
      "outputs": [
        {
          "output_type": "execute_result",
          "data": {
            "text/plain": [
              "array([ 1,  5,  3,  8,  2,  6,  7,  4, 11, 15, 13, 12])"
            ]
          },
          "metadata": {},
          "execution_count": 117
        }
      ]
    },
    {
      "cell_type": "markdown",
      "source": [
        "19.Given a 2D NumPy array, extract a subarray consisting of the central 2x2\n",
        "elements"
      ],
      "metadata": {
        "id": "MuPD8oq6vhcK"
      }
    },
    {
      "cell_type": "code",
      "source": [
        "g=np.arange(1,13).reshape(3,4)\n",
        "g"
      ],
      "metadata": {
        "colab": {
          "base_uri": "https://localhost:8080/"
        },
        "id": "uEchKSbCvYvn",
        "outputId": "80558bad-27d8-4c9a-e3f9-98a6fee04c4b"
      },
      "execution_count": 119,
      "outputs": [
        {
          "output_type": "execute_result",
          "data": {
            "text/plain": [
              "array([[ 1,  2,  3,  4],\n",
              "       [ 5,  6,  7,  8],\n",
              "       [ 9, 10, 11, 12]])"
            ]
          },
          "metadata": {},
          "execution_count": 119
        }
      ]
    },
    {
      "cell_type": "code",
      "source": [
        "print(\"Sub array =\",g[1:4,1:3])"
      ],
      "metadata": {
        "colab": {
          "base_uri": "https://localhost:8080/"
        },
        "id": "9tXN6m9qxOqr",
        "outputId": "65c90c6b-7b9e-4db6-d477-4076e12dd808"
      },
      "execution_count": 124,
      "outputs": [
        {
          "output_type": "stream",
          "name": "stdout",
          "text": [
            "Sub array = [[ 6  7]\n",
            " [10 11]]\n"
          ]
        }
      ]
    },
    {
      "cell_type": "markdown",
      "source": [
        "20.Reverse a 1D NumPy array using slicing."
      ],
      "metadata": {
        "id": "YzyajeATzali"
      }
    },
    {
      "cell_type": "code",
      "source": [
        "ary2=np.array([1,2,3,4,5,6,7,8,9])"
      ],
      "metadata": {
        "id": "0CERpKZky_2d"
      },
      "execution_count": 130,
      "outputs": []
    },
    {
      "cell_type": "code",
      "source": [
        "print(\"Reversed array =\",ary2[::-1])"
      ],
      "metadata": {
        "colab": {
          "base_uri": "https://localhost:8080/"
        },
        "id": "IARHuXh_zge3",
        "outputId": "43a728dc-1877-43e4-cfcf-9c82c519e7e3"
      },
      "execution_count": 133,
      "outputs": [
        {
          "output_type": "stream",
          "name": "stdout",
          "text": [
            "Reversed array = [9 8 7 6 5 4 3 2 1]\n"
          ]
        }
      ]
    }
  ]
}